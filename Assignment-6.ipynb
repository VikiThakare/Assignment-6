{
 "cells": [
  {
   "cell_type": "markdown",
   "id": "a0e3b41d",
   "metadata": {},
   "source": [
    "# Assignment 1"
   ]
  },
  {
   "cell_type": "raw",
   "id": "807fcb8c",
   "metadata": {},
   "source": [
    "1. Create a JSON file (employee.json) containing employee information of minimum 5 employees. Each employee information consists of Name, DOB, Height, City, State. Write a python program that reads this information from the JSON file and saves the information into a list of objects of Employee class. Finally print the list of the Employee objects."
   ]
  },
  {
   "cell_type": "code",
   "execution_count": 1,
   "id": "9832620e",
   "metadata": {},
   "outputs": [
    {
     "name": "stdout",
     "output_type": "stream",
     "text": [
      "Name: John Doe\n",
      "DOB: 1990-05-15\n",
      "Height: 175\n",
      "City: New York\n",
      "State: NY\n",
      "\n",
      "Name: Jane Smith\n",
      "DOB: 1985-08-20\n",
      "Height: 162\n",
      "City: Los Angeles\n",
      "State: CA\n",
      "\n",
      "Name: Bob Johnson\n",
      "DOB: 1992-03-10\n",
      "Height: 180\n",
      "City: Chicago\n",
      "State: IL\n",
      "\n",
      "Name: Alice Brown\n",
      "DOB: 1988-11-25\n",
      "Height: 168\n",
      "City: Houston\n",
      "State: TX\n",
      "\n",
      "Name: Eva White\n",
      "DOB: 1995-02-05\n",
      "Height: 170\n",
      "City: San Francisco\n",
      "State: CA\n",
      "\n"
     ]
    }
   ],
   "source": [
    "import json\n",
    "employee_data = [\n",
    "    {\n",
    "        \"Name\": \"John Doe\",\n",
    "        \"DOB\": \"1990-05-15\",\n",
    "        \"Height\": 175,\n",
    "        \"City\": \"New York\",\n",
    "        \"State\": \"NY\"\n",
    "    },\n",
    "    {\n",
    "        \"Name\": \"Jane Smith\",\n",
    "        \"DOB\": \"1985-08-20\",\n",
    "        \"Height\": 162,\n",
    "        \"City\": \"Los Angeles\",\n",
    "        \"State\": \"CA\"\n",
    "    },\n",
    "    {\n",
    "        \"Name\": \"Bob Johnson\",\n",
    "        \"DOB\": \"1992-03-10\",\n",
    "        \"Height\": 180,\n",
    "        \"City\": \"Chicago\",\n",
    "        \"State\": \"IL\"\n",
    "    },\n",
    "    {\n",
    "        \"Name\": \"Alice Brown\",\n",
    "        \"DOB\": \"1988-11-25\",\n",
    "        \"Height\": 168,\n",
    "        \"City\": \"Houston\",\n",
    "        \"State\": \"TX\"\n",
    "    },\n",
    "    {\n",
    "        \"Name\": \"Eva White\",\n",
    "        \"DOB\": \"1995-02-05\",\n",
    "        \"Height\": 170,\n",
    "        \"City\": \"San Francisco\",\n",
    "        \"State\": \"CA\"\n",
    "    }\n",
    "]\n",
    "\n",
    "with open('employee.json','w') as json_file:\n",
    "    json.dump(employee_data, json_file, indent=4)\n",
    "    \n",
    "# Define the Employee class\n",
    "class Employee:\n",
    "    def __init__(self, name, dob, height, city, state):\n",
    "        self.name = name\n",
    "        self.dob = dob\n",
    "        self.height = height\n",
    "        self.city = city\n",
    "        self.state = state\n",
    "\n",
    "# Read employee data from the JSON file\n",
    "def read_employee_data(filename):\n",
    "    employee_list = []\n",
    "    try:\n",
    "        with open(filename, 'r') as file:\n",
    "            data = json.load(file)\n",
    "            for emp_data in data:\n",
    "                employee = Employee(emp_data['Name'], emp_data['DOB'], emp_data['Height'], emp_data['City'], emp_data['State'])\n",
    "                employee_list.append(employee)\n",
    "    except FileNotFoundError:\n",
    "        print(f\"File {filename} not found.\")\n",
    "    return employee_list\n",
    "\n",
    "# Main program\n",
    "if __name__ == \"__main__\":\n",
    "    # Specify the JSON file containing employee information\n",
    "    json_file = \"employee.json\"\n",
    "\n",
    "    # Read employee data and create a list of Employee objects\n",
    "    employees = read_employee_data(json_file)\n",
    "\n",
    "    # Print the list of Employee objects\n",
    "    for employee in employees:\n",
    "        print(f\"Name: {employee.name}\")\n",
    "        print(f\"DOB: {employee.dob}\")\n",
    "        print(f\"Height: {employee.height}\")\n",
    "        print(f\"City: {employee.city}\")\n",
    "        print(f\"State: {employee.state}\")\n",
    "        print()\n"
   ]
  },
  {
   "cell_type": "raw",
   "id": "4c0f5d40",
   "metadata": {},
   "source": [
    "2. Create a dictionary of any 7 Indian states and their capitals. Write this into a JSON file."
   ]
  },
  {
   "cell_type": "code",
   "execution_count": 2,
   "id": "d21bd7d0",
   "metadata": {},
   "outputs": [
    {
     "name": "stdout",
     "output_type": "stream",
     "text": [
      "The data has been written to indian_states_and_capitals.json.\n"
     ]
    }
   ],
   "source": [
    "import json\n",
    "\n",
    "# Define the dictionary of Indian states and their capitals\n",
    "indian_states_and_capitals = {\n",
    "    \"Andhra Pradesh\": \"Amaravati\",\n",
    "    \"Karnataka\": \"Bengaluru\",\n",
    "    \"Tamil Nadu\": \"Chennai\",\n",
    "    \"Maharashtra\": \"Mumbai\",\n",
    "    \"Delhi\": \"New Delhi\",\n",
    "    \"Uttar Pradesh\": \"Lucknow\",\n",
    "    \"Rajasthan\": \"Jaipur\"\n",
    "}\n",
    "\n",
    "# Specify the name of the JSON file\n",
    "json_file = \"indian_states_and_capitals.json\"\n",
    "\n",
    "# Write the dictionary to the JSON file\n",
    "with open(json_file, 'w') as file:\n",
    "    json.dump(indian_states_and_capitals, file)\n",
    "\n",
    "print(f\"The data has been written to {json_file}.\")"
   ]
  },
  {
   "cell_type": "markdown",
   "id": "54294f16",
   "metadata": {},
   "source": [
    "# Assignment 2"
   ]
  },
  {
   "cell_type": "raw",
   "id": "cae1b536",
   "metadata": {},
   "source": [
    "1. Create a class named ‘Dog’. It should have a constructor which accepts its name, age and coat color. You must perform the following operations:\n",
    "a. It should have a function ‘description()’ which prints the name and age of the dog.\n",
    "b. It should have a function ‘get_info()’ which prints the coat color of the dog.\n",
    "c. Create child classes ‘JackRussellTerrier’ and ‘Bulldog’ which is inherited from the class ‘Dog’. It should have at least two methods of its own.\n",
    "d. Create objects and implement the above functionalities."
   ]
  },
  {
   "cell_type": "code",
   "execution_count": 3,
   "id": "e6b2edfa",
   "metadata": {},
   "outputs": [
    {
     "name": "stdout",
     "output_type": "stream",
     "text": [
      "Jack is 2 years old.\n",
      "Jack's coat color is White with brown spots.\n",
      "Jack has a hunting skill level of 7.\n",
      "Jack loves to play fetch!\n",
      "Bully is 4 years old.\n",
      "Bully's coat color is Fawn.\n",
      "Bully weighs 45 pounds.\n",
      "Bully is famous for its loud snoring!\n"
     ]
    }
   ],
   "source": [
    "# Parent class 'Dog'\n",
    "class Dog:\n",
    "    def __init__(self, name, age, coat_color):\n",
    "        self.name = name\n",
    "        self.age = age\n",
    "        self.coat_color = coat_color\n",
    "\n",
    "    def description(self):\n",
    "        print(f\"{self.name} is {self.age} years old.\")\n",
    "\n",
    "    def get_info(self):\n",
    "        print(f\"{self.name}'s coat color is {self.coat_color}.\")\n",
    "\n",
    "# Child class 'JackRussellTerrier' inheriting from 'Dog'\n",
    "class JackRussellTerrier(Dog):\n",
    "    def __init__(self, name, age, coat_color, hunting_skill):\n",
    "        super().__init__(name, age, coat_color)\n",
    "        self.hunting_skill = hunting_skill\n",
    "\n",
    "    def describe_hunting_skill(self):\n",
    "        print(f\"{self.name} has a hunting skill level of {self.hunting_skill}.\")\n",
    "\n",
    "    def play_fetch(self):\n",
    "        print(f\"{self.name} loves to play fetch!\")\n",
    "\n",
    "# Child class 'Bulldog' inheriting from 'Dog'\n",
    "class Bulldog(Dog):\n",
    "    def __init__(self, name, age, coat_color, weight):\n",
    "        super().__init__(name, age, coat_color)\n",
    "        self.weight = weight\n",
    "\n",
    "    def describe_weight(self):\n",
    "        print(f\"{self.name} weighs {self.weight} pounds.\")\n",
    "\n",
    "    def snore(self):\n",
    "        print(f\"{self.name} is famous for its loud snoring!\")\n",
    "\n",
    "# Create instances of the child classes and test the functionalities\n",
    "jack = JackRussellTerrier(\"Jack\", 2, \"White with brown spots\", 7)\n",
    "bully = Bulldog(\"Bully\", 4, \"Fawn\", 45)\n",
    "\n",
    "jack.description()\n",
    "jack.get_info()\n",
    "jack.describe_hunting_skill()\n",
    "jack.play_fetch()\n",
    "\n",
    "bully.description()\n",
    "bully.get_info()\n",
    "bully.describe_weight()\n",
    "bully.snore()\n"
   ]
  },
  {
   "cell_type": "code",
   "execution_count": null,
   "id": "52176ed2",
   "metadata": {},
   "outputs": [],
   "source": []
  }
 ],
 "metadata": {
  "kernelspec": {
   "display_name": "Python 3 (ipykernel)",
   "language": "python",
   "name": "python3"
  },
  "language_info": {
   "codemirror_mode": {
    "name": "ipython",
    "version": 3
   },
   "file_extension": ".py",
   "mimetype": "text/x-python",
   "name": "python",
   "nbconvert_exporter": "python",
   "pygments_lexer": "ipython3",
   "version": "3.10.9"
  }
 },
 "nbformat": 4,
 "nbformat_minor": 5
}
